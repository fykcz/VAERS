{
 "cells": [
  {
   "cell_type": "code",
   "execution_count": 1,
   "metadata": {},
   "outputs": [],
   "source": [
    "import pandas as pd\n",
    "import os\n",
    "import seaborn as sns\n",
    "from matplotlib import pyplot as plt\n",
    "%matplotlib inline"
   ]
  },
  {
   "cell_type": "code",
   "execution_count": 2,
   "metadata": {},
   "outputs": [],
   "source": [
    "current_path = os.getcwd()\n",
    "path = os.path.join(current_path, 'data')\n",
    "files = os.listdir(path)\n",
    "vaxfiles = [f for f in files if f[-7:] == 'VAX.csv']\n",
    "datafiles = [f for f in files if f[-8:] == 'DATA.csv']"
   ]
  },
  {
   "cell_type": "code",
   "execution_count": 5,
   "metadata": {},
   "outputs": [
    {
     "name": "stdout",
     "output_type": "stream",
     "text": [
      "c:\\Alex\\Projects\\C19\\VAERS\\data\\2009VAERSVAX.csv\n",
      "c:\\Alex\\Projects\\C19\\VAERS\\data\\1990VAERSVAX.csv\n",
      "c:\\Alex\\Projects\\C19\\VAERS\\data\\1991VAERSVAX.csv\n",
      "c:\\Alex\\Projects\\C19\\VAERS\\data\\1992VAERSVAX.csv\n",
      "c:\\Alex\\Projects\\C19\\VAERS\\data\\1993VAERSVAX.csv\n",
      "c:\\Alex\\Projects\\C19\\VAERS\\data\\1994VAERSVAX.csv\n",
      "c:\\Alex\\Projects\\C19\\VAERS\\data\\1995VAERSVAX.csv\n",
      "c:\\Alex\\Projects\\C19\\VAERS\\data\\1996VAERSVAX.csv\n",
      "c:\\Alex\\Projects\\C19\\VAERS\\data\\1997VAERSVAX.csv\n",
      "c:\\Alex\\Projects\\C19\\VAERS\\data\\1998VAERSVAX.csv\n",
      "c:\\Alex\\Projects\\C19\\VAERS\\data\\1999VAERSVAX.csv\n",
      "c:\\Alex\\Projects\\C19\\VAERS\\data\\2000VAERSVAX.csv\n",
      "c:\\Alex\\Projects\\C19\\VAERS\\data\\2001VAERSVAX.csv\n",
      "c:\\Alex\\Projects\\C19\\VAERS\\data\\2002VAERSVAX.csv\n",
      "c:\\Alex\\Projects\\C19\\VAERS\\data\\2003VAERSVAX.csv\n",
      "c:\\Alex\\Projects\\C19\\VAERS\\data\\2004VAERSVAX.csv\n",
      "c:\\Alex\\Projects\\C19\\VAERS\\data\\2005VAERSVAX.csv\n",
      "c:\\Alex\\Projects\\C19\\VAERS\\data\\2006VAERSVAX.csv\n",
      "c:\\Alex\\Projects\\C19\\VAERS\\data\\2007VAERSVAX.csv\n",
      "c:\\Alex\\Projects\\C19\\VAERS\\data\\2008VAERSVAX.csv\n",
      "c:\\Alex\\Projects\\C19\\VAERS\\data\\2009VAERSVAX.csv\n",
      "c:\\Alex\\Projects\\C19\\VAERS\\data\\2010VAERSVAX.csv\n",
      "c:\\Alex\\Projects\\C19\\VAERS\\data\\2011VAERSVAX.csv\n",
      "c:\\Alex\\Projects\\C19\\VAERS\\data\\2012VAERSVAX.csv\n",
      "c:\\Alex\\Projects\\C19\\VAERS\\data\\2013VAERSVAX.csv\n",
      "c:\\Alex\\Projects\\C19\\VAERS\\data\\2014VAERSVAX.csv\n",
      "c:\\Alex\\Projects\\C19\\VAERS\\data\\2015VAERSVAX.csv\n",
      "c:\\Alex\\Projects\\C19\\VAERS\\data\\2016VAERSVAX.csv\n",
      "c:\\Alex\\Projects\\C19\\VAERS\\data\\2017VAERSVAX.csv\n",
      "c:\\Alex\\Projects\\C19\\VAERS\\data\\2018VAERSVAX.csv\n",
      "c:\\Alex\\Projects\\C19\\VAERS\\data\\2019VAERSVAX.csv\n",
      "c:\\Alex\\Projects\\C19\\VAERS\\data\\2020VAERSVAX.csv\n",
      "c:\\Alex\\Projects\\C19\\VAERS\\data\\2021VAERSVAX.csv\n"
     ]
    }
   ],
   "source": [
    "vaxes = pd.DataFrame()\n",
    "\n",
    "for f in vaxfiles:\n",
    "    fname = os.path.join(current_path, os.path.join('data', f))\n",
    "    data = pd.read_csv(fname, encoding='cp850')\n",
    "    data['fileyear'] = int(f[:4])\n",
    "    vaxes = vaxes.append(data)"
   ]
  },
  {
   "cell_type": "code",
   "execution_count": 6,
   "metadata": {},
   "outputs": [
    {
     "name": "stderr",
     "output_type": "stream",
     "text": [
      "C:\\ProgramData\\Python39\\lib\\site-packages\\IPython\\core\\interactiveshell.py:3251: DtypeWarning: Columns (9,10,11,13,15,16,27) have mixed types.Specify dtype option on import or set low_memory=False.\n",
      "  exec(code_obj, self.user_global_ns, self.user_ns)\n",
      "C:\\ProgramData\\Python39\\lib\\site-packages\\IPython\\core\\interactiveshell.py:3251: DtypeWarning: Columns (31) have mixed types.Specify dtype option on import or set low_memory=False.\n",
      "  exec(code_obj, self.user_global_ns, self.user_ns)\n",
      "C:\\ProgramData\\Python39\\lib\\site-packages\\IPython\\core\\interactiveshell.py:3251: DtypeWarning: Columns (7,12,15,23,31) have mixed types.Specify dtype option on import or set low_memory=False.\n",
      "  exec(code_obj, self.user_global_ns, self.user_ns)\n",
      "C:\\ProgramData\\Python39\\lib\\site-packages\\IPython\\core\\interactiveshell.py:3251: DtypeWarning: Columns (7,12,15,23) have mixed types.Specify dtype option on import or set low_memory=False.\n",
      "  exec(code_obj, self.user_global_ns, self.user_ns)\n",
      "C:\\ProgramData\\Python39\\lib\\site-packages\\IPython\\core\\interactiveshell.py:3251: DtypeWarning: Columns (7,12,23,31) have mixed types.Specify dtype option on import or set low_memory=False.\n",
      "  exec(code_obj, self.user_global_ns, self.user_ns)\n"
     ]
    }
   ],
   "source": [
    "datas = pd.DataFrame()\n",
    "\n",
    "for f in datafiles:\n",
    "    fname = os.path.join(current_path, os.path.join('data', f))\n",
    "    data = pd.read_csv(fname, encoding='cp850')\n",
    "    data['fileyear'] = int(f[:4])\n",
    "    data[['RECVDATE', 'VAX_DATE']] = data[['RECVDATE', 'VAX_DATE']].apply(pd.to_datetime)\n",
    "    data['AGE_YRS'] = data['AGE_YRS'].apply(pd.to_numeric)\n",
    "    datas = datas.append(data)"
   ]
  },
  {
   "cell_type": "code",
   "execution_count": 7,
   "metadata": {},
   "outputs": [],
   "source": [
    "bigdata = pd.merge(left = vaxes,\n",
    "                   right = datas,\n",
    "                   left_on = 'VAERS_ID',\n",
    "                   right_on= 'VAERS_ID',\n",
    "                   how = 'left')[['VAERS_ID', 'RECVDATE', 'AGE_YRS', 'SEX', 'SYMPTOM_TEXT', 'DIED', 'VAX_DATE', 'NUMDAYS', 'LAB_DATA',\n",
    "                                    'VAX_TYPE', 'VAX_MANU', 'VAX_LOT', 'VAX_DOSE_SERIES', 'VAX_NAME', 'fileyear_y']].rename(columns={'fileyear_y' : 'FILEYEAR'})\n",
    "bigdata['VAXYEAR'] = pd.DatetimeIndex(bigdata['VAX_DATE']).year"
   ]
  },
  {
   "cell_type": "code",
   "execution_count": 8,
   "metadata": {},
   "outputs": [
    {
     "data": {
      "text/html": [
       "<div>\n",
       "<style scoped>\n",
       "    .dataframe tbody tr th:only-of-type {\n",
       "        vertical-align: middle;\n",
       "    }\n",
       "\n",
       "    .dataframe tbody tr th {\n",
       "        vertical-align: top;\n",
       "    }\n",
       "\n",
       "    .dataframe thead th {\n",
       "        text-align: right;\n",
       "    }\n",
       "</style>\n",
       "<table border=\"1\" class=\"dataframe\">\n",
       "  <thead>\n",
       "    <tr style=\"text-align: right;\">\n",
       "      <th></th>\n",
       "      <th>VAX_TYPE</th>\n",
       "      <th>VAERS_ID</th>\n",
       "    </tr>\n",
       "  </thead>\n",
       "  <tbody>\n",
       "    <tr>\n",
       "      <th>0</th>\n",
       "      <td>6VAX-F</td>\n",
       "      <td>199</td>\n",
       "    </tr>\n",
       "    <tr>\n",
       "      <th>1</th>\n",
       "      <td>ADEN</td>\n",
       "      <td>11</td>\n",
       "    </tr>\n",
       "    <tr>\n",
       "      <th>2</th>\n",
       "      <td>ADEN_4_7</td>\n",
       "      <td>182</td>\n",
       "    </tr>\n",
       "    <tr>\n",
       "      <th>3</th>\n",
       "      <td>ANTH</td>\n",
       "      <td>9246</td>\n",
       "    </tr>\n",
       "    <tr>\n",
       "      <th>4</th>\n",
       "      <td>BCG</td>\n",
       "      <td>201</td>\n",
       "    </tr>\n",
       "    <tr>\n",
       "      <th>...</th>\n",
       "      <td>...</td>\n",
       "      <td>...</td>\n",
       "    </tr>\n",
       "    <tr>\n",
       "      <th>90</th>\n",
       "      <td>TYP</td>\n",
       "      <td>7945</td>\n",
       "    </tr>\n",
       "    <tr>\n",
       "      <th>91</th>\n",
       "      <td>UNK</td>\n",
       "      <td>17217</td>\n",
       "    </tr>\n",
       "    <tr>\n",
       "      <th>92</th>\n",
       "      <td>VARCEL</td>\n",
       "      <td>80189</td>\n",
       "    </tr>\n",
       "    <tr>\n",
       "      <th>93</th>\n",
       "      <td>VARZOS</td>\n",
       "      <td>98940</td>\n",
       "    </tr>\n",
       "    <tr>\n",
       "      <th>94</th>\n",
       "      <td>YF</td>\n",
       "      <td>3491</td>\n",
       "    </tr>\n",
       "  </tbody>\n",
       "</table>\n",
       "<p>95 rows × 2 columns</p>\n",
       "</div>"
      ],
      "text/plain": [
       "    VAX_TYPE  VAERS_ID\n",
       "0     6VAX-F       199\n",
       "1       ADEN        11\n",
       "2   ADEN_4_7       182\n",
       "3       ANTH      9246\n",
       "4        BCG       201\n",
       "..       ...       ...\n",
       "90       TYP      7945\n",
       "91       UNK     17217\n",
       "92    VARCEL     80189\n",
       "93    VARZOS     98940\n",
       "94        YF      3491\n",
       "\n",
       "[95 rows x 2 columns]"
      ]
     },
     "execution_count": 8,
     "metadata": {},
     "output_type": "execute_result"
    }
   ],
   "source": [
    "vaxcounts = vaxes[['VAX_TYPE', 'VAERS_ID']].groupby('VAX_TYPE').agg('count').reset_index().sort_values('VAX_TYPE')"
   ]
  }
 ],
 "metadata": {
  "interpreter": {
   "hash": "c0bc42256856de38a0ad9ecd48e6deb1f935968f6ab46a49a4df529f8b9a2585"
  },
  "kernelspec": {
   "display_name": "Python 3.9.5 64-bit",
   "language": "python",
   "name": "python3"
  },
  "language_info": {
   "codemirror_mode": {
    "name": "ipython",
    "version": 3
   },
   "file_extension": ".py",
   "mimetype": "text/x-python",
   "name": "python",
   "nbconvert_exporter": "python",
   "pygments_lexer": "ipython3",
   "version": "3.9.5"
  },
  "orig_nbformat": 4
 },
 "nbformat": 4,
 "nbformat_minor": 2
}
