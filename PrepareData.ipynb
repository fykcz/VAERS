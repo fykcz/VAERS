{
 "cells": [
  {
   "cell_type": "markdown",
   "metadata": {},
   "source": [
    "# Příprava dat VAERS.\n",
    "Načtení základních dat VAERS, jejich prvotní zpracování a uložení do mezisouborů k dalšímu zpracování."
   ]
  },
  {
   "cell_type": "code",
   "execution_count": 8,
   "metadata": {},
   "outputs": [],
   "source": [
    "import warnings\n",
    "warnings.simplefilter(action='ignore', category=FutureWarning)\n",
    "\n",
    "import pandas as pd\n",
    "import os\n",
    "import seaborn as sns\n",
    "from matplotlib import pyplot as plt\n",
    "%matplotlib inline"
   ]
  },
  {
   "cell_type": "code",
   "execution_count": 9,
   "metadata": {},
   "outputs": [],
   "source": [
    "# nastavim si zakladni promenny, odkud a jaky data budu cist\n",
    "current_path = os.getcwd()\n",
    "path = os.path.join(current_path, 'data')\n",
    "files = os.listdir(path)\n",
    "vaxfiles = [f for f in files if f[-7:] == 'VAX.csv']\n",
    "datafiles = [f for f in files if f[-8:] == 'DATA.csv']"
   ]
  },
  {
   "cell_type": "code",
   "execution_count": 10,
   "metadata": {},
   "outputs": [],
   "source": [
    "# nactu data z VAX souboru a vytvorim jeden obrovskej df\n",
    "vaxes = pd.DataFrame()\n",
    "\n",
    "for f in vaxfiles:\n",
    "    fname = os.path.join(current_path, os.path.join('data', f))\n",
    "    data = pd.read_csv(fname, encoding='cp850')\n",
    "    data['fileyear'] = int(f[:4])\n",
    "    vaxes = vaxes.append(data)"
   ]
  },
  {
   "cell_type": "code",
   "execution_count": 11,
   "metadata": {},
   "outputs": [],
   "source": [
    "# nactu data z DATA souboru a vytvorim jeden obrovskej df\n",
    "datas = pd.DataFrame()\n",
    "\n",
    "for f in datafiles:\n",
    "    fname = os.path.join(current_path, os.path.join('data', f))\n",
    "    data = pd.read_csv(fname, encoding='cp850', low_memory=False)\n",
    "    data['fileyear'] = int(f[:4])\n",
    "    data[['RECVDATE', 'VAX_DATE']] = data[['RECVDATE', 'VAX_DATE']].apply(pd.to_datetime)\n",
    "    data['AGE_YRS'] = data['AGE_YRS'].apply(pd.to_numeric)\n",
    "    datas = datas.append(data)"
   ]
  },
  {
   "cell_type": "code",
   "execution_count": 12,
   "metadata": {},
   "outputs": [],
   "source": [
    "# sloucim oba df do jednoho, abych mel ke kazdymu pripadu odpovidajici vax data\n",
    "bigdata = pd.merge(left = vaxes,\n",
    "                   right = datas,\n",
    "                   left_on = 'VAERS_ID',\n",
    "                   right_on= 'VAERS_ID',\n",
    "                   how = 'left')[['VAERS_ID', 'RECVDATE', 'AGE_YRS', 'SEX', 'DIED', 'VAX_DATE', 'NUMDAYS',\n",
    "                                    'VAX_TYPE', 'VAX_MANU', 'VAX_LOT', 'VAX_DOSE_SERIES', 'VAX_NAME', 'fileyear_y']].rename(columns={'fileyear_y' : 'FILEYEAR'})\n",
    "bigdata['VAXYEAR'] = pd.DatetimeIndex(bigdata['VAX_DATE']).year"
   ]
  },
  {
   "cell_type": "code",
   "execution_count": 13,
   "metadata": {},
   "outputs": [],
   "source": [
    "# nactu rozdelovaci data, kde jsou rozdeleny vaxs podle nemoci\n",
    "vaxd = pd.read_excel('vaxgroups_with_disease.xlsx')\n",
    "b = vaxd['DISEASE'].apply(lambda x : pd.Series(x.split(', '))).stack()\n",
    "b_reset = b.reset_index()\n",
    "vaxd_reset = vaxd.reset_index()\n",
    "df_temp = pd.merge(b_reset,\n",
    "                    vaxd_reset,\n",
    "                    left_on = 'level_0',\n",
    "                    right_on = 'index' )\n",
    "disease_by_vax = df_temp[['VAX_TYPE', 0]]\n",
    "disease_by_vax = disease_by_vax.rename(columns={0: \"DISEASE\"})"
   ]
  },
  {
   "cell_type": "code",
   "execution_count": 14,
   "metadata": {},
   "outputs": [],
   "source": [
    "# export dat do mezisouboru\n",
    "bigdata.to_feather('bigdata.feather')\n",
    "disease_by_vax.to_feather('disease_by_vax.feather')\n",
    "vaxes.reset_index().to_feather('vaxes.feather')"
   ]
  }
 ],
 "metadata": {
  "interpreter": {
   "hash": "c0bc42256856de38a0ad9ecd48e6deb1f935968f6ab46a49a4df529f8b9a2585"
  },
  "kernelspec": {
   "display_name": "Python 3.9.5 64-bit",
   "language": "python",
   "name": "python3"
  },
  "language_info": {
   "codemirror_mode": {
    "name": "ipython",
    "version": 3
   },
   "file_extension": ".py",
   "mimetype": "text/x-python",
   "name": "python",
   "nbconvert_exporter": "python",
   "pygments_lexer": "ipython3",
   "version": "3.8.10"
  },
  "orig_nbformat": 4
 },
 "nbformat": 4,
 "nbformat_minor": 2
}
