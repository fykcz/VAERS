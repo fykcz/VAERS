{
 "cells": [
  {
   "cell_type": "markdown",
   "metadata": {},
   "source": [
    "# Příprava dat VAERS.\n",
    "Načtení základních dat VAERS, jejich prvotní zpracování a uložení do mezisouborů k dalšímu zpracování."
   ]
  },
  {
   "cell_type": "code",
   "execution_count": null,
   "metadata": {
    "tags": [
     "Imports"
    ]
   },
   "outputs": [],
   "source": [
    "import warnings\n",
    "warnings.simplefilter(action='ignore', category=FutureWarning)\n",
    "\n",
    "#import pandas as pd\n",
    "import polars as pl\n",
    "import os\n",
    "#import seaborn as sns\n",
    "#from matplotlib import pyplot as plt\n",
    "#%matplotlib inline"
   ]
  },
  {
   "cell_type": "code",
   "execution_count": null,
   "metadata": {},
   "outputs": [],
   "source": [
    "# nastavim si zakladni promenny, odkud a jaky data budu cist\n",
    "current_path = os.getcwd()\n",
    "path = os.path.join(current_path, 'data')\n",
    "files = os.listdir(path)\n",
    "vaxfiles = [f for f in files if f[-7:] == 'VAX.csv']\n",
    "datafiles = [f for f in files if f[-8:] == 'DATA.csv']\n",
    "vaxfiles.sort(reverse=False)\n",
    "datafiles.sort(reverse=False)"
   ]
  },
  {
   "cell_type": "code",
   "execution_count": null,
   "metadata": {},
   "outputs": [],
   "source": [
    "# nactu data z VAX souboru a vytvorim jeden obrovskej df\n",
    "vaxes = pl.DataFrame()\n",
    "\n",
    "for f in vaxfiles:\n",
    "    fname = os.path.join(current_path, os.path.join('data', f))\n",
    "    rok = int(f[:4])\n",
    "    with open(fname, 'r', encoding='cp850') as fh:\n",
    "        data = pl.read_csv(fh.read().encode('utf-8')).with_column(pl.lit(rok).alias('fileyear'))\n",
    "    #    df = pl.read_csv(fh.read().encode('utf-8'))\n",
    "    #data = pl.scan_csv(file=fname, encoding='cp850').with_columns([(rok).alias('fileyear')]).collect()\n",
    "    vaxes = pl.concat([vaxes, data], how='vertical')\n",
    "    #data = pl.read_csv(fname, encoding='cp850')\n",
    "    #data['fileyear'] = int(f[:4])\n",
    "    #vaxes = vaxes.append(data)\n",
    "\n",
    "#print(vaxes)"
   ]
  },
  {
   "cell_type": "code",
   "execution_count": null,
   "metadata": {},
   "outputs": [],
   "source": [
    "# nactu data z DATA souboru a vytvorim jeden obrovskej df\n",
    "datas = pl.DataFrame()\n",
    "\n",
    "for f in datafiles:\n",
    "    fname = os.path.join(current_path, os.path.join('data', f))\n",
    "    #print(fname)\n",
    "    rok = int(f[:4])\n",
    "    with open(fname, 'r', encoding='cp850') as fh:\n",
    "        data = pl.read_csv(fh.read().encode('utf-8'))\n",
    "    \n",
    "    xda = data.with_columns([pl.lit(rok).alias('fileyear'),\n",
    "                       pl.col(\"RECVDATE\").str.strptime(pl.Datetime, fmt=\"%m/%d/%Y\").cast(pl.Datetime),\n",
    "                       pl.col(\"VAX_DATE\").str.strptime(pl.Datetime, fmt=\"%m/%d/%Y\").cast(pl.Datetime),\n",
    "                       pl.col('AGE_YRS').cast(pl.Float32),\n",
    "                       pl.col('HOSPDAYS').cast(pl.Int64),\n",
    "                       pl.col('CAGE_YR').cast(pl.Int64),\n",
    "                       pl.col('CAGE_MO').cast(pl.Float32)\n",
    "                       ])\n",
    "    datas = pl.concat([datas, xda], how='vertical')\n",
    "\n"
   ]
  },
  {
   "cell_type": "code",
   "execution_count": null,
   "metadata": {},
   "outputs": [],
   "source": [
    "# sloucim oba df do jednoho, abych mel ke kazdymu pripadu odpovidajici vax data\n",
    "bigdata = vaxes.join(datas,\n",
    "                     left_on='VAERS_ID',\n",
    "                     right_on='VAERS_ID',\n",
    "                     how='left').select(['VAERS_ID', 'RECVDATE', 'AGE_YRS', 'SEX', 'DIED', 'VAX_DATE', 'NUMDAYS',\n",
    "                                         'VAX_TYPE', 'VAX_MANU', 'VAX_LOT', 'VAX_DOSE_SERIES', 'VAX_NAME', (pl.col('VAX_DATE').dt.year()).alias('VAXYEAR')])\n"
   ]
  },
  {
   "cell_type": "code",
   "execution_count": null,
   "metadata": {},
   "outputs": [],
   "source": [
    "# nactu rozdelovaci data, kde jsou rozdeleny vaxs podle nemoci\n",
    "vaxd = pl.read_excel('vaxgroups_with_disease.xlsx')\n",
    "disease_by_vax = vaxd.with_columns([\n",
    "    pl.col('DISEASE').apply(lambda x: pl.Series(x.split(', '))).alias('DIS')\n",
    "    ]).explode(pl.col('DIS')).select(['VAX_TYPE', 'VAX_GROUP', pl.col('DIS').alias('DISEASE')])"
   ]
  },
  {
   "cell_type": "code",
   "execution_count": null,
   "metadata": {},
   "outputs": [],
   "source": [
    "# export dat do mezisouboru\n",
    "bigdata.write_parquet('bigdata.parquet')\n",
    "disease_by_vax.write_parquet('disease_by_vax.parquet')\n",
    "vaxes.write_parquet('vaxes.parquet')"
   ]
  }
 ],
 "metadata": {
  "kernelspec": {
   "display_name": "Python 3.8.10 64-bit",
   "language": "python",
   "name": "python3"
  },
  "language_info": {
   "codemirror_mode": {
    "name": "ipython",
    "version": 3
   },
   "file_extension": ".py",
   "mimetype": "text/x-python",
   "name": "python",
   "nbconvert_exporter": "python",
   "pygments_lexer": "ipython3",
   "version": "3.8.10"
  },
  "orig_nbformat": 4,
  "vscode": {
   "interpreter": {
    "hash": "916dbcbb3f70747c44a77c7bcd40155683ae19c65e1c03b4aa3499c5328201f1"
   }
  }
 },
 "nbformat": 4,
 "nbformat_minor": 2
}
